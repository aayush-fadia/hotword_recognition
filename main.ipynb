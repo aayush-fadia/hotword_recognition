{
 "cells": [
  {
   "cell_type": "code",
   "execution_count": null,
   "metadata": {
    "collapsed": true,
    "pycharm": {
     "is_executing": false
    }
   },
   "outputs": [],
   "source": [
    "# Small GPU Bugfix and all imports\n",
    "import tensorflow\n",
    "physical_devices = tensorflow.config.list_physical_devices('GPU')\n",
    "tensorflow.config.experimental.set_memory_growth(physical_devices[0], enable=True)\n",
    "\n",
    "import tensorflow_datasets as tfds\n",
    "import numpy as np\n",
    "from tensorflow import  numpy_function\n",
    "from tensorflow import convert_to_tensor\n",
    "from tensorflow import float32\n",
    "import tensorflow.keras as tf\n",
    "from tensorflow.keras.utils import to_categorical\n",
    "from tensorflow.keras.layers import Convolution1D, Flatten, Dense\n",
    "from tensorflow.keras.activations import softmax\n",
    "from tensorflow.keras.callbacks import TensorBoard, ModelCheckpoint\n",
    "from tensorflow.keras.models import load_model\n",
    "import librosa\n",
    "import os"
   ]
  },
  {
   "cell_type": "code",
   "execution_count": null,
   "outputs": [],
   "source": [
    "# Loading Dataset\n",
    "dataset = tfds.load(name=\"speech_commands\", split=\"train\")\n",
    "dataset = dataset.shuffle(1024)\n",
    "dataset_valid = tfds.load(name=\"speech_commands\", split=\"validation\")"
   ],
   "metadata": {
    "collapsed": false,
    "pycharm": {
     "name": "#%%\n",
     "is_executing": false
    }
   }
  },
  {
   "cell_type": "code",
   "execution_count": null,
   "outputs": [],
   "source": [
    "# Dataset Prep Functions\n",
    "def pad_spectrogram(spec, len):\n",
    "    zrs = np.zeros((spec.shape[0], len - spec.shape[1]), dtype=np.int64)\n",
    "    padded = np.concatenate([zrs, spec], 1)\n",
    "    return padded\n",
    "\n",
    "\n",
    "def to_spectrogram(x):\n",
    "    def mapping_function(audio, label):\n",
    "        S = librosa.feature.melspectrogram(audio.astype(np.float32), sr=16000, n_fft=160, hop_length=400,\n",
    "                                           n_mels=40)\n",
    "        S_DB = librosa.power_to_db(S, ref=np.max)\n",
    "        if S_DB.shape[1] != 41:\n",
    "            S_DB = pad_spectrogram(S_DB, 41)\n",
    "        S_DB = S_DB.T.reshape((41, 40))\n",
    "        x = convert_to_tensor(S_DB.astype(np.float32))\n",
    "        y = convert_to_tensor(to_categorical(label, 12).astype(np.float32))\n",
    "        return x, y\n",
    "\n",
    "    audios, labels = numpy_function(mapping_function, [x['audio'], x['label']], [float32, float32])\n",
    "    audios.set_shape((41, 40))\n",
    "    labels.set_shape((12,))\n",
    "    return audios, labels\n"
   ],
   "metadata": {
    "collapsed": false,
    "pycharm": {
     "name": "#%%\n",
     "is_executing": false
    }
   }
  },
  {
   "cell_type": "code",
   "execution_count": null,
   "outputs": [],
   "source": [
    "# Apply Operations to Dataset\n",
    "dn = dataset.map(to_spectrogram)\n",
    "dataset_valid = dataset_valid.map(to_spectrogram)\n"
   ],
   "metadata": {
    "collapsed": false,
    "pycharm": {
     "name": "#%%\n",
     "is_executing": false
    }
   }
  },
  {
   "cell_type": "code",
   "execution_count": null,
   "outputs": [],
   "source": [
    "# Visualize Dataset\n",
    "from librosa.display import specshow\n",
    "import matplotlib.pyplot as plt\n",
    "\n",
    "for x, y in dn.take(1):\n",
    "    specshow(x.numpy(), sr=16000, hop_length=400, x_axis='time', y_axis='mel')\n",
    "    plt.colorbar(format='%+2.0f dB')\n",
    "    plt.show()"
   ],
   "metadata": {
    "collapsed": false,
    "pycharm": {
     "name": "#%%\n",
     "is_executing": false
    }
   }
  },
  {
   "cell_type": "code",
   "execution_count": null,
   "outputs": [],
   "source": [
    "# Train Run prep\n",
    "RUN_NAME = 'conv1d'\n",
    "tbcallback = TensorBoard(log_dir='logs/' + RUN_NAME, profile_batch=4)\n",
    "if 'saved_models' not in os.listdir('.'):\n",
    "    os.mkdir('saved_models')\n",
    "checkpointcallback = ModelCheckpoint('saved_models/'+RUN_NAME + '.h5', monitor='train-acc', save_best_only=False)\n",
    "dn = dn.batch(64)\n",
    "dataset_valid = dataset_valid.batch(64)"
   ],
   "metadata": {
    "collapsed": false,
    "pycharm": {
     "name": "#%%\n",
     "is_executing": false
    }
   }
  },
  {
   "cell_type": "code",
   "execution_count": null,
   "outputs": [],
   "source": [
    "# Model Definition\n",
    "model = tf.Sequential()\n",
    "model.add(Convolution1D(82, 5, input_shape=(41, 40)))\n",
    "model.add(Convolution1D(20, 3))\n",
    "model.add(Flatten())\n",
    "model.add(Dense(32))\n",
    "model.add(Dense(128))\n",
    "model.add(Dense(12, activation=softmax))\n",
    "model.summary()\n",
    "model.compile(tf.optimizers.Adam(0.0001), loss=tf.losses.categorical_crossentropy, metrics=['acc'])"
   ],
   "metadata": {
    "collapsed": false,
    "pycharm": {
     "name": "#%%\n",
     "is_executing": false
    }
   }
  },
  {
   "cell_type": "code",
   "execution_count": null,
   "outputs": [],
   "source": [
    "# Load Model\n",
    "model = load_model('saved_models/'+RUN_NAME + '.h5')"
   ],
   "metadata": {
    "collapsed": false,
    "pycharm": {
     "name": "#%%\n"
    }
   }
  },
  {
   "cell_type": "code",
   "execution_count": null,
   "outputs": [],
   "source": [
    "# Model Training\n",
    "model.fit(dn, callbacks=[tbcallback, checkpointcallback], epochs=512, validation_data=dataset_valid)"
   ],
   "metadata": {
    "collapsed": false,
    "pycharm": {
     "name": "#%%\n",
     "is_executing": false
    }
   }
  },
  {
   "cell_type": "code",
   "execution_count": null,
   "outputs": [],
   "source": [
    "# Model Testing\n",
    "conf_matrix = np.zeros((12, 12), np.uint64)\n",
    "for di in dn.take(100):\n",
    "    preds = model.predict(di[0])\n",
    "    for p, t in zip(np.argmax(preds, axis=-1), np.argmax(di[1], axis=-1)):\n",
    "        conf_matrix[p, t] += 1\n",
    "print(conf_matrix)\n",
    "\n"
   ],
   "metadata": {
    "collapsed": false,
    "pycharm": {
     "name": "#%%\n"
    }
   }
  }
 ],
 "metadata": {
  "kernelspec": {
   "display_name": "Python 3",
   "language": "python",
   "name": "python3"
  },
  "language_info": {
   "codemirror_mode": {
    "name": "ipython",
    "version": 2
   },
   "file_extension": ".py",
   "mimetype": "text/x-python",
   "name": "python",
   "nbconvert_exporter": "python",
   "pygments_lexer": "ipython2",
   "version": "2.7.6"
  },
  "pycharm": {
   "stem_cell": {
    "cell_type": "raw",
    "source": [],
    "metadata": {
     "collapsed": false
    }
   }
  }
 },
 "nbformat": 4,
 "nbformat_minor": 0
}